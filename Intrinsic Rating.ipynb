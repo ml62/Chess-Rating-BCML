{
 "metadata": {
  "name": "",
  "signature": "sha256:ea9c54d89113861f321cc1a4a17e1743b0829398b4fba02f80346948d01785df"
 },
 "nbformat": 3,
 "nbformat_minor": 0,
 "worksheets": [
  {
   "cells": [
    {
     "cell_type": "code",
     "collapsed": false,
     "input": [
      "import numpy as np\n",
      "import scipy as sp\n",
      "import math\n",
      "import re\n",
      "import random\n",
      "import matplotlib.pyplot as plt\n",
      "\n",
      "#turn_deltas = ((deltas, player_choice),...,(deltas, player_choice))\n",
      "\n",
      "\n",
      "\n",
      "#(q, 0-1, 0.05)\n",
      "#(s, 0-0.7, 0.02)\n",
      "#(c, 1-5, 0.2)"
     ],
     "language": "python",
     "metadata": {},
     "outputs": [],
     "prompt_number": 5
    },
    {
     "cell_type": "code",
     "collapsed": false,
     "input": [],
     "language": "python",
     "metadata": {},
     "outputs": []
    },
    {
     "cell_type": "code",
     "collapsed": false,
     "input": [
      "qs = np.arange(0.0, 1.0,   0.05)\n",
      "ss = np.arange(0.0, 0.7, 0.02)\n",
      "cs = np.arange(1.0, 2,   0.20)\n",
      "\n",
      "#print [(round(x,3),round(y,3),round(z,2)) for x in qs for y in ss for z in cs]\n",
      "grid = [(s,c) for s in ss for c in cs]\n"
     ],
     "language": "python",
     "metadata": {},
     "outputs": [],
     "prompt_number": 19
    },
    {
     "cell_type": "code",
     "collapsed": false,
     "input": [
      "# tm = moves for one turn \n",
      "# pt = grid_pt\n",
      "# up = 1\n",
      "# down = 0\n",
      "# straddle = 2\n",
      "\n",
      "# calculate % of up for a given turn\n",
      "def turn_probabilities(turn_delta,pt,q):\n",
      "    tm = turn_delta[0]\n",
      "    pmove = turn_delta[1]\n",
      "    gs = map(g,tm,grid_pt = pt)\n",
      "    s_sum = sum(gs)\n",
      "    gs = np.array(gs)\n",
      "    ps = gs/s_sum\n",
      "    pminus = sum(ps[:pmove])\n",
      "    pplus = pminus + ps[pmove]\n",
      "    \n",
      "    if (pplus <= q):\n",
      "        updown = 1\n",
      "    elif (pminus >= q):\n",
      "        updown = 0\n",
      "    elif ((pminus < q) & (q < pplus)):\n",
      "        updown = abs(q-pminus)/ps[pmove]\n",
      "\n",
      "    return updown\n",
      "\n",
      "# calculate score for a given q\n",
      "def game_probabilities(q, turn_deltas, pt):\n",
      "    updowns = map(turn_probabilities, turn_deltas, pt=pt,q=q)\n",
      "    R = sum(updowns)/len(updowns)\n",
      "    mu = (R-q)^2\n",
      "    return mu\n",
      "\n",
      "# calculate score for all qs\n",
      "def percentile_score(pt,turn_deltas,qs):\n",
      "    percentile_mus = map(game_probabilities,qs,turn_deltas=turn_deltas,pt=pt)\n",
      "    return sum(percentile_mus)\n",
      "\n",
      "# minimize score over all s and c vals\n",
      "def score_minimization(grid, turn_deltas, qs):\n",
      "    scores = map(percentile_score,grid,turn_deltas=turn_deltas, qs=qs)\n",
      "    return argmin(scores)\n",
      "\n",
      "\n",
      "    \n",
      "        \n",
      "        \n",
      "    \n",
      "def g(delta,pt):\n",
      "    return numpy.exp(-1 * (delta/pt[0])^(pt[1]))\n",
      "\n",
      "\n"
     ],
     "language": "python",
     "metadata": {},
     "outputs": []
    }
   ],
   "metadata": {}
  }
 ]
}